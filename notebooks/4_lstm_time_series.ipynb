{
 "cells": [
  {
   "cell_type": "markdown",
   "id": "4d65cfb8",
   "metadata": {},
   "source": [
    "## LSTM aplicado a sensor data series temporales"
   ]
  },
  {
   "cell_type": "markdown",
   "id": "343422c7",
   "metadata": {},
   "source": [
    "Prediccion de que una maquina con id x fallara despues de n ciclos de operacion\n"
   ]
  },
  {
   "cell_type": "markdown",
   "id": "bb20d1af",
   "metadata": {},
   "source": [
    "Autores :   \n",
    "- Pablo Gonzalez  \n",
    "- Araceli Sanchez\n",
    "  \n",
    "Fecha : 4/10/2025"
   ]
  },
  {
   "cell_type": "code",
   "execution_count": 47,
   "id": "629e39bc",
   "metadata": {},
   "outputs": [],
   "source": [
    "#Imports\n",
    "import sys\n",
    "sys.path.append(\"../src\") \n",
    "import models, data, utils, train\n",
    "import importlib\n",
    "importlib.reload(models)\n",
    "importlib.reload(data)\n",
    "importlib.reload(utils)\n",
    "importlib.reload(train)\n",
    "\n",
    "from utils import plot_history\n",
    "from keras.models import load_model"
   ]
  },
  {
   "cell_type": "markdown",
   "id": "c1b2ca52",
   "metadata": {},
   "source": [
    "path de los datasets de pm"
   ]
  },
  {
   "cell_type": "code",
   "execution_count": 48,
   "id": "d6a10447",
   "metadata": {},
   "outputs": [],
   "source": [
    "TRAIN = \"../assets/PM_train.txt\"\n",
    "TEST  = \"../assets/PM_test.txt\"\n",
    "TRUTH = \"../assets/PM_truth.txt\""
   ]
  },
  {
   "cell_type": "code",
   "execution_count": null,
   "id": "ad84ebcb",
   "metadata": {},
   "outputs": [],
   "source": [
    "HORIZON = 30     #  period o ciclos de las maquinas\n",
    "SEQ_LENGTH = 50  # tamanho de la secuencia\n",
    "ID_COL = \"id\" #id de la maquina\n",
    "LABEL_COL = \"label_bc\" #target falla o no falla 1/0"
   ]
  },
  {
   "cell_type": "code",
   "execution_count": null,
   "id": "f6cdafb1",
   "metadata": {},
   "outputs": [
    {
     "data": {
      "text/plain": [
       "((20531, 50, 24), (20531,), (12996, 50, 24), (12996,))"
      ]
     },
     "execution_count": 50,
     "metadata": {},
     "output_type": "execute_result"
    }
   ],
   "source": [
    "from data import load_pm_triplet_to_classification, minmax_fit_transform, make_X_y\n",
    "\n",
    "# Cargamos y construimos los dataframes adjuntando los labels\n",
    "df_train, df_test, feature_cols = load_pm_triplet_to_classification(\n",
    "    TRAIN, TEST, TRUTH, horizon=HORIZON\n",
    ")\n",
    "\n",
    "# Escalamos los datos de los sensores con minmax scaler\n",
    "df_train, df_test, scaler = minmax_fit_transform(df_train, df_test, feature_cols)\n",
    "\n",
    "# realizamos el split de los datos en X,y para el modelo LSTM\n",
    "X_train, y_train = make_X_y(df_train, ID_COL, feature_cols, LABEL_COL, SEQ_LENGTH)\n",
    "X_test,  y_test  = make_X_y(df_test,  ID_COL, feature_cols, LABEL_COL, SEQ_LENGTH)\n",
    "X_train.shape, y_train.shape, X_test.shape, y_test.shape\n"
   ]
  },
  {
   "cell_type": "markdown",
   "id": "816f56b9",
   "metadata": {},
   "source": [
    "Visualizamos los datos de sensores de las maquinas"
   ]
  },
  {
   "cell_type": "code",
   "execution_count": 51,
   "id": "bb708721",
   "metadata": {},
   "outputs": [
    {
     "data": {
      "application/vnd.microsoft.datawrangler.viewer.v0+json": {
       "columns": [
        {
         "name": "index",
         "rawType": "int64",
         "type": "integer"
        },
        {
         "name": "id",
         "rawType": "int64",
         "type": "integer"
        },
        {
         "name": "cycle",
         "rawType": "int64",
         "type": "integer"
        },
        {
         "name": "setting1",
         "rawType": "float64",
         "type": "float"
        },
        {
         "name": "setting2",
         "rawType": "float64",
         "type": "float"
        },
        {
         "name": "setting3",
         "rawType": "float64",
         "type": "float"
        },
        {
         "name": "s1",
         "rawType": "float64",
         "type": "float"
        },
        {
         "name": "s2",
         "rawType": "float64",
         "type": "float"
        },
        {
         "name": "s3",
         "rawType": "float64",
         "type": "float"
        },
        {
         "name": "s4",
         "rawType": "float64",
         "type": "float"
        },
        {
         "name": "s5",
         "rawType": "float64",
         "type": "float"
        },
        {
         "name": "s6",
         "rawType": "float64",
         "type": "float"
        },
        {
         "name": "s7",
         "rawType": "float64",
         "type": "float"
        },
        {
         "name": "s8",
         "rawType": "float64",
         "type": "float"
        },
        {
         "name": "s9",
         "rawType": "float64",
         "type": "float"
        },
        {
         "name": "s10",
         "rawType": "float64",
         "type": "float"
        },
        {
         "name": "s11",
         "rawType": "float64",
         "type": "float"
        },
        {
         "name": "s12",
         "rawType": "float64",
         "type": "float"
        },
        {
         "name": "s13",
         "rawType": "float64",
         "type": "float"
        },
        {
         "name": "s14",
         "rawType": "float64",
         "type": "float"
        },
        {
         "name": "s15",
         "rawType": "float64",
         "type": "float"
        },
        {
         "name": "s16",
         "rawType": "float64",
         "type": "float"
        },
        {
         "name": "s17",
         "rawType": "float64",
         "type": "float"
        },
        {
         "name": "s18",
         "rawType": "float64",
         "type": "float"
        },
        {
         "name": "s19",
         "rawType": "float64",
         "type": "float"
        },
        {
         "name": "s20",
         "rawType": "float64",
         "type": "float"
        },
        {
         "name": "s21",
         "rawType": "float64",
         "type": "float"
        },
        {
         "name": "ttf",
         "rawType": "int64",
         "type": "integer"
        },
        {
         "name": "label_bc",
         "rawType": "int32",
         "type": "integer"
        }
       ],
       "ref": "e38ddef4-02fe-47fc-901b-3fe150a5dfd2",
       "rows": [
        [
         "0",
         "1",
         "1",
         "0.45977011494252873",
         "0.16666666666666663",
         "0.0",
         "0.0",
         "0.18373493975903443",
         "0.4068018312622641",
         "0.30975692099932317",
         "0.0",
         "1.0",
         "0.72624798711756",
         "0.24242424242402194",
         "0.10975500314098952",
         "0.0",
         "0.3690476190476204",
         "0.6332622601279212",
         "0.20588235294098922",
         "0.1996078026628112",
         "0.36398614851866284",
         "0.0",
         "0.3333333333333357",
         "0.0",
         "0.0",
         "0.7131782945736447",
         "0.7246616956641816",
         "191",
         "0"
        ],
        [
         "1",
         "1",
         "2",
         "0.6091954022988506",
         "0.25",
         "0.0",
         "0.0",
         "0.2831325301204686",
         "0.45301940265969165",
         "0.3526333558406485",
         "0.0",
         "1.0",
         "0.628019323671495",
         "0.2121212121210192",
         "0.10024230458584071",
         "0.0",
         "0.38095238095238315",
         "0.7654584221748308",
         "0.2794117647058556",
         "0.16281349984518556",
         "0.41131204309350267",
         "0.0",
         "0.3333333333333357",
         "0.0",
         "0.0",
         "0.6666666666666643",
         "0.731013532173435",
         "190",
         "0"
        ],
        [
         "2",
         "1",
         "3",
         "0.2528735632183908",
         "0.75",
         "0.0",
         "0.0",
         "0.34337349397591765",
         "0.36952256376716974",
         "0.370526671168129",
         "0.0",
         "1.0",
         "0.7101449275362341",
         "0.2727272727270247",
         "0.1400430763708158",
         "0.0",
         "0.25000000000000355",
         "0.7953091684434952",
         "0.2205882352941444",
         "0.1717927546702427",
         "0.35744517121970176",
         "0.0",
         "0.1666666666666714",
         "0.0",
         "0.0",
         "0.6279069767441854",
         "0.6213753106876538",
         "189",
         "0"
        ],
        [
         "3",
         "1",
         "4",
         "0.5402298850574713",
         "0.5",
         "0.0",
         "0.0",
         "0.34337349397591765",
         "0.25615870939612506",
         "0.3311951384199858",
         "0.0",
         "1.0",
         "0.7407407407407476",
         "0.31818181818198354",
         "0.1245176343892993",
         "0.0",
         "0.16666666666666785",
         "0.8891257995735629",
         "0.29411764705855603",
         "0.17488904943750327",
         "0.16660253943824443",
         "0.0",
         "0.3333333333333357",
         "0.0",
         "0.0",
         "0.5736434108527142",
         "0.6623860811930413",
         "188",
         "0"
        ],
        [
         "4",
         "1",
         "5",
         "0.3908045977011494",
         "0.3333333333333333",
         "0.0",
         "0.0",
         "0.34939759036143414",
         "0.257466753869636",
         "0.4046252532072927",
         "0.0",
         "1.0",
         "0.6682769726247955",
         "0.24242424242402194",
         "0.14995961590236107",
         "0.0",
         "0.25595238095238315",
         "0.7462686567164241",
         "0.23529411764684482",
         "0.1747342346991445",
         "0.40207772220084337",
         "0.0",
         "0.4166666666666714",
         "0.0",
         "0.0",
         "0.5891472868217029",
         "0.7045015189174251",
         "187",
         "0"
        ]
       ],
       "shape": {
        "columns": 28,
        "rows": 5
       }
      },
      "text/html": [
       "<div>\n",
       "<style scoped>\n",
       "    .dataframe tbody tr th:only-of-type {\n",
       "        vertical-align: middle;\n",
       "    }\n",
       "\n",
       "    .dataframe tbody tr th {\n",
       "        vertical-align: top;\n",
       "    }\n",
       "\n",
       "    .dataframe thead th {\n",
       "        text-align: right;\n",
       "    }\n",
       "</style>\n",
       "<table border=\"1\" class=\"dataframe\">\n",
       "  <thead>\n",
       "    <tr style=\"text-align: right;\">\n",
       "      <th></th>\n",
       "      <th>id</th>\n",
       "      <th>cycle</th>\n",
       "      <th>setting1</th>\n",
       "      <th>setting2</th>\n",
       "      <th>setting3</th>\n",
       "      <th>s1</th>\n",
       "      <th>s2</th>\n",
       "      <th>s3</th>\n",
       "      <th>s4</th>\n",
       "      <th>s5</th>\n",
       "      <th>...</th>\n",
       "      <th>s14</th>\n",
       "      <th>s15</th>\n",
       "      <th>s16</th>\n",
       "      <th>s17</th>\n",
       "      <th>s18</th>\n",
       "      <th>s19</th>\n",
       "      <th>s20</th>\n",
       "      <th>s21</th>\n",
       "      <th>ttf</th>\n",
       "      <th>label_bc</th>\n",
       "    </tr>\n",
       "  </thead>\n",
       "  <tbody>\n",
       "    <tr>\n",
       "      <th>0</th>\n",
       "      <td>1</td>\n",
       "      <td>1</td>\n",
       "      <td>0.459770</td>\n",
       "      <td>0.166667</td>\n",
       "      <td>0.0</td>\n",
       "      <td>0.0</td>\n",
       "      <td>0.183735</td>\n",
       "      <td>0.406802</td>\n",
       "      <td>0.309757</td>\n",
       "      <td>0.0</td>\n",
       "      <td>...</td>\n",
       "      <td>0.199608</td>\n",
       "      <td>0.363986</td>\n",
       "      <td>0.0</td>\n",
       "      <td>0.333333</td>\n",
       "      <td>0.0</td>\n",
       "      <td>0.0</td>\n",
       "      <td>0.713178</td>\n",
       "      <td>0.724662</td>\n",
       "      <td>191</td>\n",
       "      <td>0</td>\n",
       "    </tr>\n",
       "    <tr>\n",
       "      <th>1</th>\n",
       "      <td>1</td>\n",
       "      <td>2</td>\n",
       "      <td>0.609195</td>\n",
       "      <td>0.250000</td>\n",
       "      <td>0.0</td>\n",
       "      <td>0.0</td>\n",
       "      <td>0.283133</td>\n",
       "      <td>0.453019</td>\n",
       "      <td>0.352633</td>\n",
       "      <td>0.0</td>\n",
       "      <td>...</td>\n",
       "      <td>0.162813</td>\n",
       "      <td>0.411312</td>\n",
       "      <td>0.0</td>\n",
       "      <td>0.333333</td>\n",
       "      <td>0.0</td>\n",
       "      <td>0.0</td>\n",
       "      <td>0.666667</td>\n",
       "      <td>0.731014</td>\n",
       "      <td>190</td>\n",
       "      <td>0</td>\n",
       "    </tr>\n",
       "    <tr>\n",
       "      <th>2</th>\n",
       "      <td>1</td>\n",
       "      <td>3</td>\n",
       "      <td>0.252874</td>\n",
       "      <td>0.750000</td>\n",
       "      <td>0.0</td>\n",
       "      <td>0.0</td>\n",
       "      <td>0.343373</td>\n",
       "      <td>0.369523</td>\n",
       "      <td>0.370527</td>\n",
       "      <td>0.0</td>\n",
       "      <td>...</td>\n",
       "      <td>0.171793</td>\n",
       "      <td>0.357445</td>\n",
       "      <td>0.0</td>\n",
       "      <td>0.166667</td>\n",
       "      <td>0.0</td>\n",
       "      <td>0.0</td>\n",
       "      <td>0.627907</td>\n",
       "      <td>0.621375</td>\n",
       "      <td>189</td>\n",
       "      <td>0</td>\n",
       "    </tr>\n",
       "    <tr>\n",
       "      <th>3</th>\n",
       "      <td>1</td>\n",
       "      <td>4</td>\n",
       "      <td>0.540230</td>\n",
       "      <td>0.500000</td>\n",
       "      <td>0.0</td>\n",
       "      <td>0.0</td>\n",
       "      <td>0.343373</td>\n",
       "      <td>0.256159</td>\n",
       "      <td>0.331195</td>\n",
       "      <td>0.0</td>\n",
       "      <td>...</td>\n",
       "      <td>0.174889</td>\n",
       "      <td>0.166603</td>\n",
       "      <td>0.0</td>\n",
       "      <td>0.333333</td>\n",
       "      <td>0.0</td>\n",
       "      <td>0.0</td>\n",
       "      <td>0.573643</td>\n",
       "      <td>0.662386</td>\n",
       "      <td>188</td>\n",
       "      <td>0</td>\n",
       "    </tr>\n",
       "    <tr>\n",
       "      <th>4</th>\n",
       "      <td>1</td>\n",
       "      <td>5</td>\n",
       "      <td>0.390805</td>\n",
       "      <td>0.333333</td>\n",
       "      <td>0.0</td>\n",
       "      <td>0.0</td>\n",
       "      <td>0.349398</td>\n",
       "      <td>0.257467</td>\n",
       "      <td>0.404625</td>\n",
       "      <td>0.0</td>\n",
       "      <td>...</td>\n",
       "      <td>0.174734</td>\n",
       "      <td>0.402078</td>\n",
       "      <td>0.0</td>\n",
       "      <td>0.416667</td>\n",
       "      <td>0.0</td>\n",
       "      <td>0.0</td>\n",
       "      <td>0.589147</td>\n",
       "      <td>0.704502</td>\n",
       "      <td>187</td>\n",
       "      <td>0</td>\n",
       "    </tr>\n",
       "  </tbody>\n",
       "</table>\n",
       "<p>5 rows × 28 columns</p>\n",
       "</div>"
      ],
      "text/plain": [
       "   id  cycle  setting1  setting2  setting3   s1        s2        s3        s4  \\\n",
       "0   1      1  0.459770  0.166667       0.0  0.0  0.183735  0.406802  0.309757   \n",
       "1   1      2  0.609195  0.250000       0.0  0.0  0.283133  0.453019  0.352633   \n",
       "2   1      3  0.252874  0.750000       0.0  0.0  0.343373  0.369523  0.370527   \n",
       "3   1      4  0.540230  0.500000       0.0  0.0  0.343373  0.256159  0.331195   \n",
       "4   1      5  0.390805  0.333333       0.0  0.0  0.349398  0.257467  0.404625   \n",
       "\n",
       "    s5  ...       s14       s15  s16       s17  s18  s19       s20       s21  \\\n",
       "0  0.0  ...  0.199608  0.363986  0.0  0.333333  0.0  0.0  0.713178  0.724662   \n",
       "1  0.0  ...  0.162813  0.411312  0.0  0.333333  0.0  0.0  0.666667  0.731014   \n",
       "2  0.0  ...  0.171793  0.357445  0.0  0.166667  0.0  0.0  0.627907  0.621375   \n",
       "3  0.0  ...  0.174889  0.166603  0.0  0.333333  0.0  0.0  0.573643  0.662386   \n",
       "4  0.0  ...  0.174734  0.402078  0.0  0.416667  0.0  0.0  0.589147  0.704502   \n",
       "\n",
       "   ttf  label_bc  \n",
       "0  191         0  \n",
       "1  190         0  \n",
       "2  189         0  \n",
       "3  188         0  \n",
       "4  187         0  \n",
       "\n",
       "[5 rows x 28 columns]"
      ]
     },
     "execution_count": 51,
     "metadata": {},
     "output_type": "execute_result"
    }
   ],
   "source": [
    "df_train.head()"
   ]
  },
  {
   "cell_type": "code",
   "execution_count": 52,
   "id": "7a6e28ee",
   "metadata": {},
   "outputs": [
    {
     "data": {
      "application/vnd.microsoft.datawrangler.viewer.v0+json": {
       "columns": [
        {
         "name": "index",
         "rawType": "int64",
         "type": "integer"
        },
        {
         "name": "id",
         "rawType": "int64",
         "type": "integer"
        },
        {
         "name": "cycle",
         "rawType": "int64",
         "type": "integer"
        },
        {
         "name": "setting1",
         "rawType": "float64",
         "type": "float"
        },
        {
         "name": "setting2",
         "rawType": "float64",
         "type": "float"
        },
        {
         "name": "setting3",
         "rawType": "float64",
         "type": "float"
        },
        {
         "name": "s1",
         "rawType": "float64",
         "type": "float"
        },
        {
         "name": "s2",
         "rawType": "float64",
         "type": "float"
        },
        {
         "name": "s3",
         "rawType": "float64",
         "type": "float"
        },
        {
         "name": "s4",
         "rawType": "float64",
         "type": "float"
        },
        {
         "name": "s5",
         "rawType": "float64",
         "type": "float"
        },
        {
         "name": "s6",
         "rawType": "float64",
         "type": "float"
        },
        {
         "name": "s7",
         "rawType": "float64",
         "type": "float"
        },
        {
         "name": "s8",
         "rawType": "float64",
         "type": "float"
        },
        {
         "name": "s9",
         "rawType": "float64",
         "type": "float"
        },
        {
         "name": "s10",
         "rawType": "float64",
         "type": "float"
        },
        {
         "name": "s11",
         "rawType": "float64",
         "type": "float"
        },
        {
         "name": "s12",
         "rawType": "float64",
         "type": "float"
        },
        {
         "name": "s13",
         "rawType": "float64",
         "type": "float"
        },
        {
         "name": "s14",
         "rawType": "float64",
         "type": "float"
        },
        {
         "name": "s15",
         "rawType": "float64",
         "type": "float"
        },
        {
         "name": "s16",
         "rawType": "float64",
         "type": "float"
        },
        {
         "name": "s17",
         "rawType": "float64",
         "type": "float"
        },
        {
         "name": "s18",
         "rawType": "float64",
         "type": "float"
        },
        {
         "name": "s19",
         "rawType": "float64",
         "type": "float"
        },
        {
         "name": "s20",
         "rawType": "float64",
         "type": "float"
        },
        {
         "name": "s21",
         "rawType": "float64",
         "type": "float"
        },
        {
         "name": "ttf",
         "rawType": "int64",
         "type": "integer"
        },
        {
         "name": "label_bc",
         "rawType": "int32",
         "type": "integer"
        }
       ],
       "ref": "b060c385-806d-4009-888c-9edcaf4e4e0a",
       "rows": [
        [
         "0",
         "1",
         "1",
         "0.632183908045977",
         "0.75",
         "0.0",
         "0.0",
         "0.5451807228915584",
         "0.31066056245912677",
         "0.2694125590817009",
         "0.0",
         "1.0",
         "0.6521739130434696",
         "0.2121212121210192",
         "0.12761374854168395",
         "0.0",
         "0.2083333333333357",
         "0.6460554371002161",
         "0.2205882352941444",
         "0.1321601816492901",
         "0.3089649865332831",
         "0.0",
         "0.3333333333333357",
         "0.0",
         "0.0",
         "0.5581395348837184",
         "0.6618337475835432",
         "142",
         "0"
        ],
        [
         "1",
         "1",
         "2",
         "0.3448275862068965",
         "0.25",
         "0.0",
         "0.0",
         "0.15060240963856586",
         "0.37955090473076325",
         "0.2223160027008788",
         "0.0",
         "1.0",
         "0.8051529790660226",
         "0.16666666666696983",
         "0.14668401687158195",
         "0.0",
         "0.38690476190476275",
         "0.7398720682302695",
         "0.26470588235270043",
         "0.20476829394158358",
         "0.21315890727203168",
         "0.0",
         "0.4166666666666714",
         "0.0",
         "0.0",
         "0.6821705426356601",
         "0.6868268434134208",
         "141",
         "0"
        ],
        [
         "2",
         "1",
         "3",
         "0.5172413793103449",
         "0.5833333333333334",
         "0.0",
         "0.0",
         "0.3765060240963862",
         "0.34663178548071016",
         "0.3222484807562438",
         "0.0",
         "1.0",
         "0.6859903381642596",
         "0.22727272727297532",
         "0.15808130664991182",
         "0.0",
         "0.38690476190476275",
         "0.6993603411513902",
         "0.2205882352941444",
         "0.15564041696769948",
         "0.4586379376683354",
         "0.0",
         "0.4166666666666714",
         "0.0",
         "0.0",
         "0.7286821705426334",
         "0.7213476940071786",
         "140",
         "0"
        ],
        [
         "3",
         "1",
         "4",
         "0.7413793103448276",
         "0.5",
         "0.0",
         "0.0",
         "0.37048192771086974",
         "0.28515369522563816",
         "0.4080013504388944",
         "0.0",
         "1.0",
         "0.6795491143317349",
         "0.19696969696997257",
         "0.10571659337701078",
         "0.0",
         "0.25595238095238315",
         "0.5735607675906209",
         "0.25",
         "0.17008979254824652",
         "0.2570219315121207",
         "0.0",
         "0.25",
         "0.0",
         "0.0",
         "0.6666666666666643",
         "0.6621099143882887",
         "139",
         "0"
        ],
        [
         "4",
         "1",
         "5",
         "0.5804597701149425",
         "0.5",
         "0.0",
         "0.0",
         "0.3915662650602485",
         "0.35208197078701176",
         "0.332039162727888",
         "0.0",
         "1.0",
         "0.6940418679549083",
         "0.16666666666696983",
         "0.10239612312662416",
         "0.0",
         "0.2738095238095255",
         "0.7377398720682322",
         "0.2205882352941444",
         "0.15275054185158154",
         "0.30088495575221685",
         "0.0",
         "0.1666666666666714",
         "0.0",
         "0.0",
         "0.6589147286821699",
         "0.7163766915216812",
         "138",
         "0"
        ]
       ],
       "shape": {
        "columns": 28,
        "rows": 5
       }
      },
      "text/html": [
       "<div>\n",
       "<style scoped>\n",
       "    .dataframe tbody tr th:only-of-type {\n",
       "        vertical-align: middle;\n",
       "    }\n",
       "\n",
       "    .dataframe tbody tr th {\n",
       "        vertical-align: top;\n",
       "    }\n",
       "\n",
       "    .dataframe thead th {\n",
       "        text-align: right;\n",
       "    }\n",
       "</style>\n",
       "<table border=\"1\" class=\"dataframe\">\n",
       "  <thead>\n",
       "    <tr style=\"text-align: right;\">\n",
       "      <th></th>\n",
       "      <th>id</th>\n",
       "      <th>cycle</th>\n",
       "      <th>setting1</th>\n",
       "      <th>setting2</th>\n",
       "      <th>setting3</th>\n",
       "      <th>s1</th>\n",
       "      <th>s2</th>\n",
       "      <th>s3</th>\n",
       "      <th>s4</th>\n",
       "      <th>s5</th>\n",
       "      <th>...</th>\n",
       "      <th>s14</th>\n",
       "      <th>s15</th>\n",
       "      <th>s16</th>\n",
       "      <th>s17</th>\n",
       "      <th>s18</th>\n",
       "      <th>s19</th>\n",
       "      <th>s20</th>\n",
       "      <th>s21</th>\n",
       "      <th>ttf</th>\n",
       "      <th>label_bc</th>\n",
       "    </tr>\n",
       "  </thead>\n",
       "  <tbody>\n",
       "    <tr>\n",
       "      <th>0</th>\n",
       "      <td>1</td>\n",
       "      <td>1</td>\n",
       "      <td>0.632184</td>\n",
       "      <td>0.750000</td>\n",
       "      <td>0.0</td>\n",
       "      <td>0.0</td>\n",
       "      <td>0.545181</td>\n",
       "      <td>0.310661</td>\n",
       "      <td>0.269413</td>\n",
       "      <td>0.0</td>\n",
       "      <td>...</td>\n",
       "      <td>0.132160</td>\n",
       "      <td>0.308965</td>\n",
       "      <td>0.0</td>\n",
       "      <td>0.333333</td>\n",
       "      <td>0.0</td>\n",
       "      <td>0.0</td>\n",
       "      <td>0.558140</td>\n",
       "      <td>0.661834</td>\n",
       "      <td>142</td>\n",
       "      <td>0</td>\n",
       "    </tr>\n",
       "    <tr>\n",
       "      <th>1</th>\n",
       "      <td>1</td>\n",
       "      <td>2</td>\n",
       "      <td>0.344828</td>\n",
       "      <td>0.250000</td>\n",
       "      <td>0.0</td>\n",
       "      <td>0.0</td>\n",
       "      <td>0.150602</td>\n",
       "      <td>0.379551</td>\n",
       "      <td>0.222316</td>\n",
       "      <td>0.0</td>\n",
       "      <td>...</td>\n",
       "      <td>0.204768</td>\n",
       "      <td>0.213159</td>\n",
       "      <td>0.0</td>\n",
       "      <td>0.416667</td>\n",
       "      <td>0.0</td>\n",
       "      <td>0.0</td>\n",
       "      <td>0.682171</td>\n",
       "      <td>0.686827</td>\n",
       "      <td>141</td>\n",
       "      <td>0</td>\n",
       "    </tr>\n",
       "    <tr>\n",
       "      <th>2</th>\n",
       "      <td>1</td>\n",
       "      <td>3</td>\n",
       "      <td>0.517241</td>\n",
       "      <td>0.583333</td>\n",
       "      <td>0.0</td>\n",
       "      <td>0.0</td>\n",
       "      <td>0.376506</td>\n",
       "      <td>0.346632</td>\n",
       "      <td>0.322248</td>\n",
       "      <td>0.0</td>\n",
       "      <td>...</td>\n",
       "      <td>0.155640</td>\n",
       "      <td>0.458638</td>\n",
       "      <td>0.0</td>\n",
       "      <td>0.416667</td>\n",
       "      <td>0.0</td>\n",
       "      <td>0.0</td>\n",
       "      <td>0.728682</td>\n",
       "      <td>0.721348</td>\n",
       "      <td>140</td>\n",
       "      <td>0</td>\n",
       "    </tr>\n",
       "    <tr>\n",
       "      <th>3</th>\n",
       "      <td>1</td>\n",
       "      <td>4</td>\n",
       "      <td>0.741379</td>\n",
       "      <td>0.500000</td>\n",
       "      <td>0.0</td>\n",
       "      <td>0.0</td>\n",
       "      <td>0.370482</td>\n",
       "      <td>0.285154</td>\n",
       "      <td>0.408001</td>\n",
       "      <td>0.0</td>\n",
       "      <td>...</td>\n",
       "      <td>0.170090</td>\n",
       "      <td>0.257022</td>\n",
       "      <td>0.0</td>\n",
       "      <td>0.250000</td>\n",
       "      <td>0.0</td>\n",
       "      <td>0.0</td>\n",
       "      <td>0.666667</td>\n",
       "      <td>0.662110</td>\n",
       "      <td>139</td>\n",
       "      <td>0</td>\n",
       "    </tr>\n",
       "    <tr>\n",
       "      <th>4</th>\n",
       "      <td>1</td>\n",
       "      <td>5</td>\n",
       "      <td>0.580460</td>\n",
       "      <td>0.500000</td>\n",
       "      <td>0.0</td>\n",
       "      <td>0.0</td>\n",
       "      <td>0.391566</td>\n",
       "      <td>0.352082</td>\n",
       "      <td>0.332039</td>\n",
       "      <td>0.0</td>\n",
       "      <td>...</td>\n",
       "      <td>0.152751</td>\n",
       "      <td>0.300885</td>\n",
       "      <td>0.0</td>\n",
       "      <td>0.166667</td>\n",
       "      <td>0.0</td>\n",
       "      <td>0.0</td>\n",
       "      <td>0.658915</td>\n",
       "      <td>0.716377</td>\n",
       "      <td>138</td>\n",
       "      <td>0</td>\n",
       "    </tr>\n",
       "  </tbody>\n",
       "</table>\n",
       "<p>5 rows × 28 columns</p>\n",
       "</div>"
      ],
      "text/plain": [
       "   id  cycle  setting1  setting2  setting3   s1        s2        s3        s4  \\\n",
       "0   1      1  0.632184  0.750000       0.0  0.0  0.545181  0.310661  0.269413   \n",
       "1   1      2  0.344828  0.250000       0.0  0.0  0.150602  0.379551  0.222316   \n",
       "2   1      3  0.517241  0.583333       0.0  0.0  0.376506  0.346632  0.322248   \n",
       "3   1      4  0.741379  0.500000       0.0  0.0  0.370482  0.285154  0.408001   \n",
       "4   1      5  0.580460  0.500000       0.0  0.0  0.391566  0.352082  0.332039   \n",
       "\n",
       "    s5  ...       s14       s15  s16       s17  s18  s19       s20       s21  \\\n",
       "0  0.0  ...  0.132160  0.308965  0.0  0.333333  0.0  0.0  0.558140  0.661834   \n",
       "1  0.0  ...  0.204768  0.213159  0.0  0.416667  0.0  0.0  0.682171  0.686827   \n",
       "2  0.0  ...  0.155640  0.458638  0.0  0.416667  0.0  0.0  0.728682  0.721348   \n",
       "3  0.0  ...  0.170090  0.257022  0.0  0.250000  0.0  0.0  0.666667  0.662110   \n",
       "4  0.0  ...  0.152751  0.300885  0.0  0.166667  0.0  0.0  0.658915  0.716377   \n",
       "\n",
       "   ttf  label_bc  \n",
       "0  142         0  \n",
       "1  141         0  \n",
       "2  140         0  \n",
       "3  139         0  \n",
       "4  138         0  \n",
       "\n",
       "[5 rows x 28 columns]"
      ]
     },
     "execution_count": 52,
     "metadata": {},
     "output_type": "execute_result"
    }
   ],
   "source": [
    "df_test.head()"
   ]
  },
  {
   "cell_type": "code",
   "execution_count": 53,
   "id": "5d686df9",
   "metadata": {},
   "outputs": [
    {
     "data": {
      "text/html": [
       "<pre style=\"white-space:pre;overflow-x:auto;line-height:normal;font-family:Menlo,'DejaVu Sans Mono',consolas,'Courier New',monospace\"><span style=\"font-weight: bold\">Model: \"LSTM_Classifier\"</span>\n",
       "</pre>\n"
      ],
      "text/plain": [
       "\u001b[1mModel: \"LSTM_Classifier\"\u001b[0m\n"
      ]
     },
     "metadata": {},
     "output_type": "display_data"
    },
    {
     "data": {
      "text/html": [
       "<pre style=\"white-space:pre;overflow-x:auto;line-height:normal;font-family:Menlo,'DejaVu Sans Mono',consolas,'Courier New',monospace\">┏━━━━━━━━━━━━━━━━━━━━━━━━━━━━━━━━━┳━━━━━━━━━━━━━━━━━━━━━━━━┳━━━━━━━━━━━━━━━┓\n",
       "┃<span style=\"font-weight: bold\"> Layer (type)                    </span>┃<span style=\"font-weight: bold\"> Output Shape           </span>┃<span style=\"font-weight: bold\">       Param # </span>┃\n",
       "┡━━━━━━━━━━━━━━━━━━━━━━━━━━━━━━━━━╇━━━━━━━━━━━━━━━━━━━━━━━━╇━━━━━━━━━━━━━━━┩\n",
       "│ lstm_8 (<span style=\"color: #0087ff; text-decoration-color: #0087ff\">LSTM</span>)                   │ (<span style=\"color: #00d7ff; text-decoration-color: #00d7ff\">None</span>, <span style=\"color: #00af00; text-decoration-color: #00af00\">50</span>, <span style=\"color: #00af00; text-decoration-color: #00af00\">100</span>)        │        <span style=\"color: #00af00; text-decoration-color: #00af00\">50,000</span> │\n",
       "├─────────────────────────────────┼────────────────────────┼───────────────┤\n",
       "│ dropout_8 (<span style=\"color: #0087ff; text-decoration-color: #0087ff\">Dropout</span>)             │ (<span style=\"color: #00d7ff; text-decoration-color: #00d7ff\">None</span>, <span style=\"color: #00af00; text-decoration-color: #00af00\">50</span>, <span style=\"color: #00af00; text-decoration-color: #00af00\">100</span>)        │             <span style=\"color: #00af00; text-decoration-color: #00af00\">0</span> │\n",
       "├─────────────────────────────────┼────────────────────────┼───────────────┤\n",
       "│ lstm_9 (<span style=\"color: #0087ff; text-decoration-color: #0087ff\">LSTM</span>)                   │ (<span style=\"color: #00d7ff; text-decoration-color: #00d7ff\">None</span>, <span style=\"color: #00af00; text-decoration-color: #00af00\">50</span>)             │        <span style=\"color: #00af00; text-decoration-color: #00af00\">30,200</span> │\n",
       "├─────────────────────────────────┼────────────────────────┼───────────────┤\n",
       "│ dropout_9 (<span style=\"color: #0087ff; text-decoration-color: #0087ff\">Dropout</span>)             │ (<span style=\"color: #00d7ff; text-decoration-color: #00d7ff\">None</span>, <span style=\"color: #00af00; text-decoration-color: #00af00\">50</span>)             │             <span style=\"color: #00af00; text-decoration-color: #00af00\">0</span> │\n",
       "├─────────────────────────────────┼────────────────────────┼───────────────┤\n",
       "│ dense_4 (<span style=\"color: #0087ff; text-decoration-color: #0087ff\">Dense</span>)                 │ (<span style=\"color: #00d7ff; text-decoration-color: #00d7ff\">None</span>, <span style=\"color: #00af00; text-decoration-color: #00af00\">1</span>)              │            <span style=\"color: #00af00; text-decoration-color: #00af00\">51</span> │\n",
       "└─────────────────────────────────┴────────────────────────┴───────────────┘\n",
       "</pre>\n"
      ],
      "text/plain": [
       "┏━━━━━━━━━━━━━━━━━━━━━━━━━━━━━━━━━┳━━━━━━━━━━━━━━━━━━━━━━━━┳━━━━━━━━━━━━━━━┓\n",
       "┃\u001b[1m \u001b[0m\u001b[1mLayer (type)                   \u001b[0m\u001b[1m \u001b[0m┃\u001b[1m \u001b[0m\u001b[1mOutput Shape          \u001b[0m\u001b[1m \u001b[0m┃\u001b[1m \u001b[0m\u001b[1m      Param #\u001b[0m\u001b[1m \u001b[0m┃\n",
       "┡━━━━━━━━━━━━━━━━━━━━━━━━━━━━━━━━━╇━━━━━━━━━━━━━━━━━━━━━━━━╇━━━━━━━━━━━━━━━┩\n",
       "│ lstm_8 (\u001b[38;5;33mLSTM\u001b[0m)                   │ (\u001b[38;5;45mNone\u001b[0m, \u001b[38;5;34m50\u001b[0m, \u001b[38;5;34m100\u001b[0m)        │        \u001b[38;5;34m50,000\u001b[0m │\n",
       "├─────────────────────────────────┼────────────────────────┼───────────────┤\n",
       "│ dropout_8 (\u001b[38;5;33mDropout\u001b[0m)             │ (\u001b[38;5;45mNone\u001b[0m, \u001b[38;5;34m50\u001b[0m, \u001b[38;5;34m100\u001b[0m)        │             \u001b[38;5;34m0\u001b[0m │\n",
       "├─────────────────────────────────┼────────────────────────┼───────────────┤\n",
       "│ lstm_9 (\u001b[38;5;33mLSTM\u001b[0m)                   │ (\u001b[38;5;45mNone\u001b[0m, \u001b[38;5;34m50\u001b[0m)             │        \u001b[38;5;34m30,200\u001b[0m │\n",
       "├─────────────────────────────────┼────────────────────────┼───────────────┤\n",
       "│ dropout_9 (\u001b[38;5;33mDropout\u001b[0m)             │ (\u001b[38;5;45mNone\u001b[0m, \u001b[38;5;34m50\u001b[0m)             │             \u001b[38;5;34m0\u001b[0m │\n",
       "├─────────────────────────────────┼────────────────────────┼───────────────┤\n",
       "│ dense_4 (\u001b[38;5;33mDense\u001b[0m)                 │ (\u001b[38;5;45mNone\u001b[0m, \u001b[38;5;34m1\u001b[0m)              │            \u001b[38;5;34m51\u001b[0m │\n",
       "└─────────────────────────────────┴────────────────────────┴───────────────┘\n"
      ]
     },
     "metadata": {},
     "output_type": "display_data"
    },
    {
     "data": {
      "text/html": [
       "<pre style=\"white-space:pre;overflow-x:auto;line-height:normal;font-family:Menlo,'DejaVu Sans Mono',consolas,'Courier New',monospace\"><span style=\"font-weight: bold\"> Total params: </span><span style=\"color: #00af00; text-decoration-color: #00af00\">80,251</span> (313.48 KB)\n",
       "</pre>\n"
      ],
      "text/plain": [
       "\u001b[1m Total params: \u001b[0m\u001b[38;5;34m80,251\u001b[0m (313.48 KB)\n"
      ]
     },
     "metadata": {},
     "output_type": "display_data"
    },
    {
     "data": {
      "text/html": [
       "<pre style=\"white-space:pre;overflow-x:auto;line-height:normal;font-family:Menlo,'DejaVu Sans Mono',consolas,'Courier New',monospace\"><span style=\"font-weight: bold\"> Trainable params: </span><span style=\"color: #00af00; text-decoration-color: #00af00\">80,251</span> (313.48 KB)\n",
       "</pre>\n"
      ],
      "text/plain": [
       "\u001b[1m Trainable params: \u001b[0m\u001b[38;5;34m80,251\u001b[0m (313.48 KB)\n"
      ]
     },
     "metadata": {},
     "output_type": "display_data"
    },
    {
     "data": {
      "text/html": [
       "<pre style=\"white-space:pre;overflow-x:auto;line-height:normal;font-family:Menlo,'DejaVu Sans Mono',consolas,'Courier New',monospace\"><span style=\"font-weight: bold\"> Non-trainable params: </span><span style=\"color: #00af00; text-decoration-color: #00af00\">0</span> (0.00 B)\n",
       "</pre>\n"
      ],
      "text/plain": [
       "\u001b[1m Non-trainable params: \u001b[0m\u001b[38;5;34m0\u001b[0m (0.00 B)\n"
      ]
     },
     "metadata": {},
     "output_type": "display_data"
    },
    {
     "name": "stdout",
     "output_type": "stream",
     "text": [
      "Epoch 1/10\n",
      "\u001b[1m98/98\u001b[0m \u001b[32m━━━━━━━━━━━━━━━━━━━━\u001b[0m\u001b[37m\u001b[0m \u001b[1m29s\u001b[0m 208ms/step - accuracy: 0.9351 - loss: 0.1692 - val_accuracy: 0.9533 - val_loss: 0.1218\n",
      "Epoch 2/10\n",
      "\u001b[1m98/98\u001b[0m \u001b[32m━━━━━━━━━━━━━━━━━━━━\u001b[0m\u001b[37m\u001b[0m \u001b[1m18s\u001b[0m 187ms/step - accuracy: 0.9701 - loss: 0.0742 - val_accuracy: 0.9757 - val_loss: 0.0514\n",
      "Epoch 3/10\n",
      "\u001b[1m98/98\u001b[0m \u001b[32m━━━━━━━━━━━━━━━━━━━━\u001b[0m\u001b[37m\u001b[0m \u001b[1m18s\u001b[0m 188ms/step - accuracy: 0.9710 - loss: 0.0688 - val_accuracy: 0.9883 - val_loss: 0.0378\n",
      "Epoch 4/10\n",
      "\u001b[1m98/98\u001b[0m \u001b[32m━━━━━━━━━━━━━━━━━━━━\u001b[0m\u001b[37m\u001b[0m \u001b[1m18s\u001b[0m 187ms/step - accuracy: 0.9706 - loss: 0.0721 - val_accuracy: 0.9825 - val_loss: 0.0397\n"
     ]
    },
    {
     "data": {
      "image/png": "[encoded data removed]",
      "text/plain": [
       "<Figure size 800x400 with 1 Axes>"
      ]
     },
     "metadata": {},
     "output_type": "display_data"
    }
   ],
   "source": [
    "from models import LSTMSimpleClassifier\n",
    "from train import train, evaluate_on_arrays\n",
    "nb_features = X_train.shape[2]\n",
    "timestamp = SEQ_LENGTH  #50\n",
    "\n",
    "clf = LSTMSimpleClassifier(timestamp=timestamp, nb_features=nb_features, lr=1e-3)\n",
    "clf.summary()\n",
    "\n",
    "history = train(\n",
    "    clf.model,\n",
    "    X_train, y_train,\n",
    "    epochs=10,\n",
    "    batch_size=200,\n",
    "    validation_split=0.05,\n",
    "    callbacks=None\n",
    ")\n",
    "plot_history(history)\n",
    "\n",
    "# Métricas (train/test)\n",
    "train_metrics = evaluate_on_arrays(clf.model, X_train, y_train, batch_size=200)\n",
    "test_metrics  = evaluate_on_arrays(clf.model, X_test,  y_test,  batch_size=200)\n",
    "\n"
   ]
  },
  {
   "cell_type": "markdown",
   "id": "59884247",
   "metadata": {},
   "source": [
    "Visualizamos mejor nuestro reporte de clasificacion en train"
   ]
  },
  {
   "cell_type": "code",
   "execution_count": 56,
   "id": "e14721e0",
   "metadata": {},
   "outputs": [
    {
     "data": {
      "application/vnd.microsoft.datawrangler.viewer.v0+json": {
       "columns": [
        {
         "name": "index",
         "rawType": "object",
         "type": "string"
        },
        {
         "name": "precision",
         "rawType": "float64",
         "type": "float"
        },
        {
         "name": "recall",
         "rawType": "float64",
         "type": "float"
        },
        {
         "name": "f1-score",
         "rawType": "float64",
         "type": "float"
        },
        {
         "name": "support",
         "rawType": "float64",
         "type": "float"
        }
       ],
       "ref": "ddcf02d8-cdcd-402a-a674-103ecf856b1d",
       "rows": [
        [
         "0",
         "0.985377601926716",
         "0.9858298433824795",
         "0.9856036707771724",
         "17431.0"
        ],
        [
         "1",
         "0.9201164294954722",
         "0.917741935483871",
         "0.9189276485788114",
         "3100.0"
        ],
        [
         "accuracy",
         "0.9755491695484877",
         "0.9755491695484877",
         "0.9755491695484877",
         "0.9755491695484877"
        ],
        [
         "macro avg",
         "0.9527470157110941",
         "0.9517858894331752",
         "0.9522656596779919",
         "20531.0"
        ],
        [
         "weighted avg",
         "0.9755237402279747",
         "0.9755491695484877",
         "0.9755361792368227",
         "20531.0"
        ]
       ],
       "shape": {
        "columns": 4,
        "rows": 5
       }
      },
      "text/html": [
       "<div>\n",
       "<style scoped>\n",
       "    .dataframe tbody tr th:only-of-type {\n",
       "        vertical-align: middle;\n",
       "    }\n",
       "\n",
       "    .dataframe tbody tr th {\n",
       "        vertical-align: top;\n",
       "    }\n",
       "\n",
       "    .dataframe thead th {\n",
       "        text-align: right;\n",
       "    }\n",
       "</style>\n",
       "<table border=\"1\" class=\"dataframe\">\n",
       "  <thead>\n",
       "    <tr style=\"text-align: right;\">\n",
       "      <th></th>\n",
       "      <th>precision</th>\n",
       "      <th>recall</th>\n",
       "      <th>f1-score</th>\n",
       "      <th>support</th>\n",
       "    </tr>\n",
       "  </thead>\n",
       "  <tbody>\n",
       "    <tr>\n",
       "      <th>0</th>\n",
       "      <td>0.985378</td>\n",
       "      <td>0.985830</td>\n",
       "      <td>0.985604</td>\n",
       "      <td>17431.000000</td>\n",
       "    </tr>\n",
       "    <tr>\n",
       "      <th>1</th>\n",
       "      <td>0.920116</td>\n",
       "      <td>0.917742</td>\n",
       "      <td>0.918928</td>\n",
       "      <td>3100.000000</td>\n",
       "    </tr>\n",
       "    <tr>\n",
       "      <th>accuracy</th>\n",
       "      <td>0.975549</td>\n",
       "      <td>0.975549</td>\n",
       "      <td>0.975549</td>\n",
       "      <td>0.975549</td>\n",
       "    </tr>\n",
       "    <tr>\n",
       "      <th>macro avg</th>\n",
       "      <td>0.952747</td>\n",
       "      <td>0.951786</td>\n",
       "      <td>0.952266</td>\n",
       "      <td>20531.000000</td>\n",
       "    </tr>\n",
       "    <tr>\n",
       "      <th>weighted avg</th>\n",
       "      <td>0.975524</td>\n",
       "      <td>0.975549</td>\n",
       "      <td>0.975536</td>\n",
       "      <td>20531.000000</td>\n",
       "    </tr>\n",
       "  </tbody>\n",
       "</table>\n",
       "</div>"
      ],
      "text/plain": [
       "              precision    recall  f1-score       support\n",
       "0              0.985378  0.985830  0.985604  17431.000000\n",
       "1              0.920116  0.917742  0.918928   3100.000000\n",
       "accuracy       0.975549  0.975549  0.975549      0.975549\n",
       "macro avg      0.952747  0.951786  0.952266  20531.000000\n",
       "weighted avg   0.975524  0.975549  0.975536  20531.000000"
      ]
     },
     "execution_count": 56,
     "metadata": {},
     "output_type": "execute_result"
    }
   ],
   "source": [
    "import pandas as pd\n",
    "# Convierte el dict en DataFrame y muestra\n",
    "report_df = pd.DataFrame(train_metrics['report']).transpose()\n",
    "report_df"
   ]
  },
  {
   "cell_type": "markdown",
   "id": "71fcd1f8",
   "metadata": {},
   "source": [
    "Visualizamos mejor nuestro reporte de clasificacion en test"
   ]
  },
  {
   "cell_type": "code",
   "execution_count": 59,
   "id": "e06e07d7",
   "metadata": {},
   "outputs": [
    {
     "data": {
      "application/vnd.microsoft.datawrangler.viewer.v0+json": {
       "columns": [
        {
         "name": "index",
         "rawType": "object",
         "type": "string"
        },
        {
         "name": "precision",
         "rawType": "float64",
         "type": "float"
        },
        {
         "name": "recall",
         "rawType": "float64",
         "type": "float"
        },
        {
         "name": "f1-score",
         "rawType": "float64",
         "type": "float"
        },
        {
         "name": "support",
         "rawType": "float64",
         "type": "float"
        }
       ],
       "ref": "7871b9f7-35c6-43cf-a186-ed11bf7699c7",
       "rows": [
        [
         "0",
         "0.9925326206571293",
         "0.9970783322804802",
         "0.9948002836208935",
         "12664.0"
        ],
        [
         "1",
         "0.864963503649635",
         "0.713855421686747",
         "0.7821782178217822",
         "332.0"
        ],
        [
         "accuracy",
         "0.989843028624192",
         "0.989843028624192",
         "0.989843028624192",
         "0.989843028624192"
        ],
        [
         "macro avg",
         "0.9287480621533821",
         "0.8554668769836136",
         "0.8884892507213378",
         "12996.0"
        ],
        [
         "weighted avg",
         "0.9892736989237892",
         "0.989843028624192",
         "0.9893685718753329",
         "12996.0"
        ]
       ],
       "shape": {
        "columns": 4,
        "rows": 5
       }
      },
      "text/html": [
       "<div>\n",
       "<style scoped>\n",
       "    .dataframe tbody tr th:only-of-type {\n",
       "        vertical-align: middle;\n",
       "    }\n",
       "\n",
       "    .dataframe tbody tr th {\n",
       "        vertical-align: top;\n",
       "    }\n",
       "\n",
       "    .dataframe thead th {\n",
       "        text-align: right;\n",
       "    }\n",
       "</style>\n",
       "<table border=\"1\" class=\"dataframe\">\n",
       "  <thead>\n",
       "    <tr style=\"text-align: right;\">\n",
       "      <th></th>\n",
       "      <th>precision</th>\n",
       "      <th>recall</th>\n",
       "      <th>f1-score</th>\n",
       "      <th>support</th>\n",
       "    </tr>\n",
       "  </thead>\n",
       "  <tbody>\n",
       "    <tr>\n",
       "      <th>0</th>\n",
       "      <td>0.992533</td>\n",
       "      <td>0.997078</td>\n",
       "      <td>0.994800</td>\n",
       "      <td>12664.000000</td>\n",
       "    </tr>\n",
       "    <tr>\n",
       "      <th>1</th>\n",
       "      <td>0.864964</td>\n",
       "      <td>0.713855</td>\n",
       "      <td>0.782178</td>\n",
       "      <td>332.000000</td>\n",
       "    </tr>\n",
       "    <tr>\n",
       "      <th>accuracy</th>\n",
       "      <td>0.989843</td>\n",
       "      <td>0.989843</td>\n",
       "      <td>0.989843</td>\n",
       "      <td>0.989843</td>\n",
       "    </tr>\n",
       "    <tr>\n",
       "      <th>macro avg</th>\n",
       "      <td>0.928748</td>\n",
       "      <td>0.855467</td>\n",
       "      <td>0.888489</td>\n",
       "      <td>12996.000000</td>\n",
       "    </tr>\n",
       "    <tr>\n",
       "      <th>weighted avg</th>\n",
       "      <td>0.989274</td>\n",
       "      <td>0.989843</td>\n",
       "      <td>0.989369</td>\n",
       "      <td>12996.000000</td>\n",
       "    </tr>\n",
       "  </tbody>\n",
       "</table>\n",
       "</div>"
      ],
      "text/plain": [
       "              precision    recall  f1-score       support\n",
       "0              0.992533  0.997078  0.994800  12664.000000\n",
       "1              0.864964  0.713855  0.782178    332.000000\n",
       "accuracy       0.989843  0.989843  0.989843      0.989843\n",
       "macro avg      0.928748  0.855467  0.888489  12996.000000\n",
       "weighted avg   0.989274  0.989843  0.989369  12996.000000"
      ]
     },
     "execution_count": 59,
     "metadata": {},
     "output_type": "execute_result"
    }
   ],
   "source": [
    "import pandas as pd\n",
    "# Convierte el dict en DataFrame y muestra\n",
    "report_df = pd.DataFrame(test_metrics['report']).transpose()\n",
    "report_df"
   ]
  },
  {
   "cell_type": "code",
   "execution_count": 45,
   "id": "09cc73f0",
   "metadata": {},
   "outputs": [
    {
     "data": {
      "image/png": "[encoded data removed]",
      "text/plain": [
       "<Figure size 600x500 with 2 Axes>"
      ]
     },
     "metadata": {},
     "output_type": "display_data"
    }
   ],
   "source": [
    "import matplotlib.pyplot as plt\n",
    "import seaborn as sns\n",
    "\n",
    "cm = test_metrics[\"confusion_matrix\"]\n",
    "\n",
    "plt.figure(figsize=(6, 5))\n",
    "sns.heatmap(cm, annot=True, fmt=\"d\", xticklabels=[\"No falla\", \"Falla\"],yticklabels=[\"No falla\", \"Falla\"], cmap=\"Blues\")\n",
    "plt.xlabel(\"Prediccion\")\n",
    "plt.ylabel(\"Verdadero\")\n",
    "plt.title(\"Matriz de Confusión - Test\")\n",
    "plt.show()"
   ]
  },
  {
   "cell_type": "code",
   "execution_count": null,
   "id": "a163cef6",
   "metadata": {},
   "outputs": [],
   "source": [
    "import pandas as pd\n",
    "\n",
    "# Extraemos las metricas principales en un csv\n",
    "row = {\n",
    "    'modelo': 'LSTM_PM',\n",
    "    'accuracy_train': train_metrics['accuracy'],\n",
    "    'accuracy_test': test_metrics['accuracy'],\n",
    "    'f1_train': train_metrics['report']['weighted avg']['f1-score'],\n",
    "    'f1_test': test_metrics['report']['weighted avg']['f1-score'],\n",
    "    'precision_train': train_metrics['report']['weighted avg']['precision'],\n",
    "    'precision_test': test_metrics['report']['weighted avg']['precision'],\n",
    "    'recall_train': train_metrics['report']['weighted avg']['recall'],\n",
    "    'recall_test': test_metrics['report']['weighted avg']['recall'],\n",
    "    'epochs': 10\n",
    "}\n",
    "\n",
    "csv_path = \"../results/lstm/summary_lstm.csv\"\n",
    "try:\n",
    "    results = pd.read_csv(csv_path)\n",
    "except FileNotFoundError:\n",
    "    results = pd.DataFrame(columns=row.keys())\n",
    "\n",
    "results = pd.concat([results, pd.DataFrame([row])], ignore_index=True)\n",
    "results.to_csv(csv_path, index=False)"
   ]
  },
  {
   "cell_type": "markdown",
   "id": "0e84641f",
   "metadata": {},
   "source": [
    "Probamos con una maquina a traves de la funcion prob_failure"
   ]
  },
  {
   "cell_type": "code",
   "execution_count": 58,
   "id": "bd093530",
   "metadata": {},
   "outputs": [
    {
     "name": "stdout",
     "output_type": "stream",
     "text": [
      "La probabilidad de que la maquina 16 falle en 30 ciclos es de : 0.03%\n"
     ]
    }
   ],
   "source": [
    "from train import predict_classes\n",
    "from utils import prob_failure\n",
    "y_pred_test = predict_classes(clf.model, X_test, batch_size=200)\n",
    "test_metrics[\"confusion_matrix\"]\n",
    "\n",
    "machine_id = 16  # o el id que quieras\n",
    "p_fail = prob_failure(clf.model, df_test, machine_id, SEQ_LENGTH, feature_cols, id_col=ID_COL)\n",
    "print(f\"La probabilidad de que la maquina {machine_id} falle en {HORIZON} ciclos es de : {p_fail:.2f}%\")\n"
   ]
  },
  {
   "cell_type": "markdown",
   "id": "82cbb8e8",
   "metadata": {},
   "source": [
    "Conclusion"
   ]
  },
  {
   "cell_type": "markdown",
   "id": "ee8f64e0",
   "metadata": {},
   "source": [
    "Como vemos nuestro modelo aprendio bastante bien, con un accuracy de 0.97 en test y 0.99 en train. Generalmente al tener mayor cantidad de datos en que no falla, el accuracy es una metrica que no refleja bien el rendimiento del modelo. Por eso es importante ver otras metricas como precision, recall y f1-score. Vemos que para test tenemos una precision menor en el caso que si falla eso es por el desbalanceo de clases que tenemos en el dataset. Hay mas labels de que no falla que de que si falla.\n",
    "\n",
    "Pero logramos aplicar nuestro clasificador LSTM a un dataset de series temporales y obtener buenos resultados."
   ]
  }
 ],
 "metadata": {
  "kernelspec": {
   "display_name": "portfolio",
   "language": "python",
   "name": "python3"
  },
  "language_info": {
   "codemirror_mode": {
    "name": "ipython",
    "version": 3
   },
   "file_extension": ".py",
   "mimetype": "text/x-python",
   "name": "python",
   "nbconvert_exporter": "python",
   "pygments_lexer": "ipython3",
   "version": "3.12.7"
  }
 },
 "nbformat": 4,
 "nbformat_minor": 5
}
